{
 "cells": [
  {
   "cell_type": "markdown",
   "metadata": {
    "id": "i_xLFYD8a_h3"
   },
   "source": [
    "# Movie Recommendation - Milestone 1\n",
    "\n",
    "### Instructions:\n",
    "\n",
    "> To complete this project, you need to follow the instructions you see on the AiCore portal.\n",
    ">\n",
    ">  This notebook allows you to write your code and run it, and once you have your solution ready, you can submit it using the form at each step.\n",
    ">\n",
    ">  For example, for the first task, you need to check how many movies are in the list of movies. You can do this by writing your code in the cell that says `Task 1` and then running the cell. You can run the cell by clicking the play button on the left of the cell, or by pressing `Shift + Enter`.\n",
    ">\n",
    ">  Once you have a solution, the next cell will contain a form that you can use to submit your solution. You can submit your solution by clicking on the play button on the left of the cell, and then entering your solution in the form that appears. You can submit your solution as many times as you want, and the last submission will be considered as your final solution."
   ]
  },
  {
   "cell_type": "code",
   "execution_count": 7,
   "metadata": {
    "id": "RLn-_E7Ba3Q4",
    "ExecuteTime": {
     "end_time": "2023-10-21T18:24:58.454100200Z",
     "start_time": "2023-10-21T18:24:53.988849400Z"
    }
   },
   "outputs": [],
   "source": [
    "#@title # Run this cell before you start coding { display-mode: \"form\" }\n",
    "#@markdown Don’t worry about what’s in this collapsed cell, you’re not expected to understand the code inside\n",
    "!pip install movie-rec-marking-aicore --upgrade --quiet\n",
    "!wget https://aicore-files.s3.amazonaws.com/Movie-Recommendation/movies-head.json --quiet\n",
    "import json\n",
    "#from movie_rec_marking import test_milestone_1\n",
    "\n",
    "# Load the movies\n",
    "with open('movies-head.json', 'r') as f:\n",
    "    movies = json.load(f)"
   ]
  },
  {
   "cell_type": "markdown",
   "metadata": {
    "id": "MYQw48Lqa3Q4"
   },
   "source": [
    "# Task 1\n",
    "\n",
    "### Count the number of movies in the list.\n",
    "\n",
    "The movies are stored in a variable called `movies`. This variable contains a list. Count the length of that list to get the number of movies"
   ]
  },
  {
   "cell_type": "code",
   "execution_count": 8,
   "metadata": {
    "id": "1UpT9BAym0iW",
    "colab": {
     "base_uri": "https://localhost:8080/"
    },
    "executionInfo": {
     "status": "ok",
     "timestamp": 1696673365974,
     "user_tz": -60,
     "elapsed": 6,
     "user": {
      "displayName": "Susruth Puppala",
      "userId": "17586533176361250691"
     }
    },
    "outputId": "58007830-934f-46d5-b600-09e891e765b5",
    "ExecuteTime": {
     "end_time": "2023-10-21T18:25:01.290964300Z",
     "start_time": "2023-10-21T18:25:01.275963900Z"
    }
   },
   "outputs": [
    {
     "name": "stdout",
     "output_type": "stream",
     "text": [
      "[{'title': 'The Shawshank Redemption', 'description': 'Two imprisoned men bond over a number of years, finding solace and eventual redemption through acts of common decency.', 'genre': 'Drama', 'image_url': 'https://m.media-amazon.com/images/M/MV5BMDFkYTc0MGEtZmNhMC00ZDIzLWFmNTEtODM1ZmRlYWMwMWFmXkEyXkFqcGdeQXVyMTMxODk2OTU@._V1_UY67_CR0,0,45,67_AL_.jpg', 'link': 'https://imdb.com/title/tt0111161/?pf_rd_m=A2FGELUUNOQJNL&pf_rd_p=1a264172-ae11-42e4-8ef7-7fed1973bb8f&pf_rd_r=VZEYAR8ZVPNKZ9V7MV87&pf_rd_s=center-1&pf_rd_t=15506&pf_rd_i=top&ref_=chttp_tt_1'}, {'title': 'The Godfather', 'description': 'The aging patriarch of an organized crime dynasty in postwar New York City transfers control of his clandestine empire to his reluctant youngest son.', 'genre': 'Crime', 'image_url': 'https://m.media-amazon.com/images/M/MV5BM2MyNjYxNmUtYTAwNi00MTYxLWJmNWYtYzZlODY3ZTk3OTFlXkEyXkFqcGdeQXVyNzkwMjQ5NzM@._V1_UY67_CR1,0,45,67_AL_.jpg', 'link': 'https://imdb.com/title/tt0068646/?pf_rd_m=A2FGELUUNOQJNL&pf_rd_p=1a264172-ae11-42e4-8ef7-7fed1973bb8f&pf_rd_r=VZEYAR8ZVPNKZ9V7MV87&pf_rd_s=center-1&pf_rd_t=15506&pf_rd_i=top&ref_=chttp_tt_2'}, {'title': 'The Dark Knight', 'description': 'When the menace known as the Joker wreaks havoc and chaos on the people of Gotham, Batman must accept one of the greatest psychological and physical tests of his ability to fight injustice.', 'genre': 'Action', 'image_url': 'https://m.media-amazon.com/images/M/MV5BMTMxNTMwODM0NF5BMl5BanBnXkFtZTcwODAyMTk2Mw@@._V1_UY67_CR0,0,45,67_AL_.jpg', 'link': 'https://imdb.com/title/tt0468569/?pf_rd_m=A2FGELUUNOQJNL&pf_rd_p=1a264172-ae11-42e4-8ef7-7fed1973bb8f&pf_rd_r=VZEYAR8ZVPNKZ9V7MV87&pf_rd_s=center-1&pf_rd_t=15506&pf_rd_i=top&ref_=chttp_tt_3'}, {'title': 'The Godfather: Part II', 'description': 'The early life and career of Vito Corleone in 1920s New York City is portrayed, while his son, Michael, expands and tightens his grip on the family crime syndicate.', 'genre': 'Crime', 'image_url': 'https://m.media-amazon.com/images/M/MV5BMWMwMGQzZTItY2JlNC00OWZiLWIyMDctNDk2ZDQ2YjRjMWQ0XkEyXkFqcGdeQXVyNzkwMjQ5NzM@._V1_UY67_CR1,0,45,67_AL_.jpg', 'link': 'https://imdb.com/title/tt0071562/?pf_rd_m=A2FGELUUNOQJNL&pf_rd_p=1a264172-ae11-42e4-8ef7-7fed1973bb8f&pf_rd_r=VZEYAR8ZVPNKZ9V7MV87&pf_rd_s=center-1&pf_rd_t=15506&pf_rd_i=top&ref_=chttp_tt_4'}, {'title': '12 Angry Men', 'description': 'The jury in a New York City murder trial is frustrated by a single member whose skeptical caution forces them to more carefully consider the evidence before jumping to a hasty verdict.', 'genre': 'Crime', 'image_url': 'https://m.media-amazon.com/images/M/MV5BMWU4N2FjNzYtNTVkNC00NzQ0LTg0MjAtYTJlMjFhNGUxZDFmXkEyXkFqcGdeQXVyNjc1NTYyMjg@._V1_UX45_CR0,0,45,67_AL_.jpg', 'link': 'https://imdb.com/title/tt0050083/?pf_rd_m=A2FGELUUNOQJNL&pf_rd_p=1a264172-ae11-42e4-8ef7-7fed1973bb8f&pf_rd_r=VZEYAR8ZVPNKZ9V7MV87&pf_rd_s=center-1&pf_rd_t=15506&pf_rd_i=top&ref_=chttp_tt_5'}]\n",
      "5\n"
     ]
    }
   ],
   "source": [
    "## You can use this cell for any computation you want\n",
    "print(movies)\n",
    "print(len(movies))"
   ]
  },
  {
   "cell_type": "code",
   "execution_count": null,
   "metadata": {
    "id": "aDmHRI9ca3Q4",
    "colab": {
     "base_uri": "https://localhost:8080/"
    },
    "executionInfo": {
     "status": "ok",
     "timestamp": 1696670256125,
     "user_tz": -60,
     "elapsed": 374,
     "user": {
      "displayName": "Susruth Puppala",
      "userId": "17586533176361250691"
     }
    },
    "outputId": "12541d24-3739-459e-cf8a-52cc1e8b1b42",
    "ExecuteTime": {
     "start_time": "2023-10-21T18:24:30.473284600Z"
    }
   },
   "outputs": [],
   "source": [
    "#@title Enter your solution here { display-mode: \"form\", run: \"auto\" }\n",
    "number_movies = 5 #@param {type:\"number\"}\n",
    "task_1 = test_milestone_1.check_length(number_movies)\n"
   ]
  },
  {
   "cell_type": "markdown",
   "metadata": {
    "id": "oStVmL3abFAR"
   },
   "source": [
    "# Task 2\n",
    "\n",
    "### Select the first movie.\n",
    "\n",
    "Index the list to select the first movie in the list. Print it out. What data type is the movie returned? Explore what it contains.\n"
   ]
  },
  {
   "cell_type": "code",
   "execution_count": 10,
   "metadata": {
    "id": "31Rab8gYbFAR",
    "colab": {
     "base_uri": "https://localhost:8080/"
    },
    "executionInfo": {
     "status": "ok",
     "timestamp": 1696670332893,
     "user_tz": -60,
     "elapsed": 6,
     "user": {
      "displayName": "Susruth Puppala",
      "userId": "17586533176361250691"
     }
    },
    "outputId": "9b8c34e5-63af-4a55-8cc0-e8d34810a028",
    "ExecuteTime": {
     "end_time": "2023-10-21T18:25:12.728481800Z",
     "start_time": "2023-10-21T18:25:12.707479200Z"
    }
   },
   "outputs": [
    {
     "name": "stdout",
     "output_type": "stream",
     "text": [
      "{'title': 'The Shawshank Redemption', 'description': 'Two imprisoned men bond over a number of years, finding solace and eventual redemption through acts of common decency.', 'genre': 'Drama', 'image_url': 'https://m.media-amazon.com/images/M/MV5BMDFkYTc0MGEtZmNhMC00ZDIzLWFmNTEtODM1ZmRlYWMwMWFmXkEyXkFqcGdeQXVyMTMxODk2OTU@._V1_UY67_CR0,0,45,67_AL_.jpg', 'link': 'https://imdb.com/title/tt0111161/?pf_rd_m=A2FGELUUNOQJNL&pf_rd_p=1a264172-ae11-42e4-8ef7-7fed1973bb8f&pf_rd_r=VZEYAR8ZVPNKZ9V7MV87&pf_rd_s=center-1&pf_rd_t=15506&pf_rd_i=top&ref_=chttp_tt_1'}\n",
      "<class 'dict'>\n"
     ]
    }
   ],
   "source": [
    "## You can use this cell for any computation you want\n",
    "print(movies[0])\n",
    "print(type(movies[0]))"
   ]
  },
  {
   "cell_type": "code",
   "execution_count": null,
   "metadata": {
    "id": "zbIja5xmbFAS",
    "colab": {
     "base_uri": "https://localhost:8080/"
    },
    "executionInfo": {
     "status": "ok",
     "timestamp": 1696670342154,
     "user_tz": -60,
     "elapsed": 359,
     "user": {
      "displayName": "Susruth Puppala",
      "userId": "17586533176361250691"
     }
    },
    "outputId": "e689c179-0f4f-4b9b-b2b4-21568940d2cb",
    "ExecuteTime": {
     "start_time": "2023-10-21T18:24:30.482286800Z"
    }
   },
   "outputs": [],
   "source": [
    "#@title Enter your solution here { display-mode: \"form\", run: \"auto\" }\n",
    "\n",
    "first_movie = \"The Shawshank Redemption\" #@param [\"The Shawshank Redemption\", \"The Godfather\", \"The Dark Knight\", \"The Iron Giant\"] {allow-input: true}\n",
    "data_type = \"dict\" #@param [\"string\", \"int\", \"float\", \"list\", \"dict\"] {allow-input: true}\n",
    "task_2 = test_milestone_1.check_first_movie(first_movie, data_type, task_1)"
   ]
  },
  {
   "cell_type": "markdown",
   "metadata": {
    "id": "JCfyX9nObFAS"
   },
   "source": [
    "# Task 3\n",
    "\n",
    "### Explore that movie\n",
    "\n",
    "Index the dictionary to select the `link` key and print its value. Where does this link take you?"
   ]
  },
  {
   "cell_type": "code",
   "execution_count": 11,
   "metadata": {
    "id": "NDTyFGgobFAT",
    "colab": {
     "base_uri": "https://localhost:8080/"
    },
    "executionInfo": {
     "status": "ok",
     "timestamp": 1696670946156,
     "user_tz": -60,
     "elapsed": 5,
     "user": {
      "displayName": "Susruth Puppala",
      "userId": "17586533176361250691"
     }
    },
    "outputId": "096001ca-ed5f-4589-fb27-b51c326bb51b",
    "ExecuteTime": {
     "end_time": "2023-10-21T18:25:18.271582300Z",
     "start_time": "2023-10-21T18:25:18.253710800Z"
    }
   },
   "outputs": [
    {
     "name": "stdout",
     "output_type": "stream",
     "text": [
      "https://imdb.com/title/tt0111161/?pf_rd_m=A2FGELUUNOQJNL&pf_rd_p=1a264172-ae11-42e4-8ef7-7fed1973bb8f&pf_rd_r=VZEYAR8ZVPNKZ9V7MV87&pf_rd_s=center-1&pf_rd_t=15506&pf_rd_i=top&ref_=chttp_tt_1\n",
      "=chttp_tt_1\n"
     ]
    }
   ],
   "source": [
    "## You can use this cell for any computation you want\n",
    "print(movies[0]['link'])\n",
    "print(movies[0]['link'][-11:])"
   ]
  },
  {
   "cell_type": "code",
   "execution_count": null,
   "metadata": {
    "id": "AUBQkTF7bFAU",
    "colab": {
     "base_uri": "https://localhost:8080/"
    },
    "executionInfo": {
     "status": "ok",
     "timestamp": 1696670821607,
     "user_tz": -60,
     "elapsed": 4,
     "user": {
      "displayName": "Susruth Puppala",
      "userId": "17586533176361250691"
     }
    },
    "outputId": "9012a9ad-d067-489d-c714-dada3081382b",
    "ExecuteTime": {
     "start_time": "2023-10-21T18:24:30.501563900Z"
    }
   },
   "outputs": [],
   "source": [
    "#@title What are the last 10 characters of the link? { display-mode: \"form\", run: \"auto\" }\n",
    "\n",
    "first_movie = \"chttp_tt_1\" #@param [\"chttp_tt_1\", \"chttp_tt_2\", \"https://im\", \"ttp_tt_250\"] {allow-input: true}\n",
    "task_3 = test_milestone_1.check_last_characters(first_movie, task_2)"
   ]
  }
 ],
 "metadata": {
  "colab": {
   "provenance": [
    {
     "file_id": "https://github.com/AI-Core/movie-recommendation-system/blob/main/milestone_1.ipynb",
     "timestamp": 1696670178368
    }
   ]
  },
  "kernelspec": {
   "display_name": "base",
   "language": "python",
   "name": "python3"
  },
  "language_info": {
   "codemirror_mode": {
    "name": "ipython",
    "version": 3
   },
   "file_extension": ".py",
   "mimetype": "text/x-python",
   "name": "python",
   "nbconvert_exporter": "python",
   "pygments_lexer": "ipython3",
   "version": "3.9.12 (main, Apr  5 2022, 06:56:58) \n[GCC 7.5.0]"
  },
  "orig_nbformat": 4,
  "vscode": {
   "interpreter": {
    "hash": "a2592652612463181e69ac003232387e3e9a99279aa6b168e76f5df16d5110f4"
   }
  }
 },
 "nbformat": 4,
 "nbformat_minor": 0
}
