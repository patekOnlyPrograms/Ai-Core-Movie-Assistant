{
 "cells": [
  {
   "cell_type": "markdown",
   "metadata": {
    "id": "i_xLFYD8a_h3"
   },
   "source": [
    "# Movie Recommendation - Milestone 4\n"
   ]
  },
  {
   "cell_type": "markdown",
   "metadata": {
    "id": "T7OpHu8k-dhP"
   },
   "source": [
    "<details>\n",
    "  <summary>Click in any of these links to compare your solution with ours up to this point</summary>\n",
    "  <p>\n",
    "    <a href=\"https://colab.research.google.com/github/AI-Core/movie-recommendation-solutions/blob/main/solution_m1.ipynb\" target=\"_parent\">Solution for milestone 1</a>\n",
    "  </p>\n",
    "  <p>\n",
    "    <a href=\"https://colab.research.google.com/github/AI-Core/movie-recommendation-solutions/blob/main/solution_m2.ipynb\" target=\"_parent\">Solution for milestone 2</a>\n",
    "  </p>\n",
    "    <p>\n",
    "        <a href=\"https://colab.research.google.com/github/AI-Core/movie-recommendation-solutions/blob/main/solution_m3.ipynb\" target=\"_parent\">Solution for milestone 3</a>\n",
    "    </p>\n",
    "</details>"
   ]
  },
  {
   "cell_type": "code",
   "execution_count": null,
   "metadata": {
    "id": "O7rK0hup-dhQ"
   },
   "outputs": [],
   "source": [
    "#@title # Run the following cell to add the `movies` variable and the `get_unique_genres` and `get_movies_in_genre` functions will be available for you to use. { display-mode: \"form\" }\n",
    "#@markdown Don’t worry about what’s in this collapsed cell, you’re not expected to understand the code inside\n",
    "\n",
    "!pip install movie-rec-marking-aicore --upgrade --quiet\n",
    "!wget https://aicore-files.s3.amazonaws.com/Movie-Recommendation/movies.json --quiet\n",
    "from movie_rec_marking import test_milestone_4\n",
    "import json\n",
    "with open('movies.json', 'r') as f:\n",
    "    movies = json.load(f)\n",
    "\n",
    "def get_unique_genres():\n",
    "    genres = []\n",
    "    for movie in movies:\n",
    "        genres.append(movie[\"genre\"])\n",
    "    genres = set(genres)\n",
    "    return genres\n",
    "\n",
    "def get_movies_in_genre(genre):\n",
    "    movies_in_genre = []\n",
    "    for movie in movies:\n",
    "        if movie[\"genre\"] == genre:\n",
    "            movies_in_genre.append(movie)\n",
    "    return movies_in_genre"
   ]
  },
  {
   "cell_type": "markdown",
   "metadata": {
    "id": "MYQw48Lqa3Q4"
   },
   "source": [
    "# Task 1\n",
    "### Ask the user what genre they are interested in\n",
    "\n",
    "Before you ask a user for their input, print out all of the available options. Get this from your `get_unique_genre`s method defined earlier.\n",
    "\n",
    "Then, take a user input using the `input()` function and assign it to the variable genre_choice.\n",
    "\n",
    "Put all of this in a function called get_user_genre_choice.\n",
    "\n",
    "Open this notebook  to get started, and follow the instructions for this milestone.\n",
    "\n"
   ]
  },
  {
   "cell_type": "code",
   "execution_count": null,
   "metadata": {
    "id": "1UpT9BAym0iW",
    "colab": {
     "base_uri": "https://localhost:8080/",
     "height": 70
    },
    "executionInfo": {
     "status": "ok",
     "timestamp": 1696850500376,
     "user_tz": -60,
     "elapsed": 4680,
     "user": {
      "displayName": "Susruth Puppala",
      "userId": "17586533176361250691"
     }
    },
    "outputId": "31700c4d-cf1e-44f5-b1e8-2516db83dc58"
   },
   "outputs": [
    {
     "name": "stdout",
     "output_type": "stream",
     "text": [
      "Comedy, Action, Adventure, Mystery, Horror, Drama, Film-Noir, Western, Animation, Crime, Biography\n",
      "What genre are you interested in?Western\n"
     ]
    },
    {
     "output_type": "execute_result",
     "data": {
      "text/plain": [
       "'Western'"
      ],
      "application/vnd.google.colaboratory.intrinsic+json": {
       "type": "string"
      }
     },
     "metadata": {},
     "execution_count": 2
    }
   ],
   "source": [
    "## Write your code here\n",
    "def get_user_genre_choice():\n",
    "  genres = get_unique_genres()\n",
    "  print(\", \".join(genres))\n",
    "  genre_choice = input(\"What genre are you interested in?\")\n",
    "  return genre_choice\n",
    "\n",
    "get_user_genre_choice()"
   ]
  },
  {
   "cell_type": "code",
   "execution_count": null,
   "metadata": {
    "id": "DBqO_l3n-dhT",
    "colab": {
     "base_uri": "https://localhost:8080/"
    },
    "executionInfo": {
     "status": "ok",
     "timestamp": 1696850502593,
     "user_tz": -60,
     "elapsed": 235,
     "user": {
      "displayName": "Susruth Puppala",
      "userId": "17586533176361250691"
     }
    },
    "outputId": "cc3bfdd6-cd83-4bfd-b578-5216ea468db5"
   },
   "outputs": [
    {
     "output_type": "stream",
     "name": "stdout",
     "text": [
      "Great! The \"get_user_genre_choice\" function prints the correct genre\n",
      "You can continue to the next task\n"
     ]
    }
   ],
   "source": [
    "#@title Run this cell to check your solution { display-mode: \"form\", run: \"auto\" }\n",
    "\n",
    "assert 'get_user_genre_choice' in globals(), \"You need to define a function called get_user_genre_choice\"\n",
    "task_1 = test_milestone_4.check_get_user_genre_choice(get_user_genre_choice)"
   ]
  },
  {
   "cell_type": "markdown",
   "metadata": {
    "id": "TBWe7k4k-dhT"
   },
   "source": [
    "# Task 2\n",
    "\n",
    "### Show the movies in the selected genre\n",
    "\n",
    "Write some code to show the movies in a selected genre (you don't need to define this as a function yet):\n",
    "\n",
    "Use your `get_movies_in_genre` function to get a list of movies in the genre selected.\n",
    "\n",
    "\n",
    "Print each movie within the selected genre on a new line. At the start of the line, print the integer index of the movie.\n",
    "\n",
    "\n",
    "Make sure to:\n",
    "\n",
    "- Use the built-in `enumerate` function\n",
    "- Use an f-string to format the printed text\n",
    "\n",
    "To avoid confusing users, make the indexing start from 1 rather than zero. For example, one line should look something like: `\"3: The Dark Knight\"`."
   ]
  },
  {
   "cell_type": "code",
   "execution_count": null,
   "metadata": {
    "id": "At_GCfAq-dhT",
    "colab": {
     "base_uri": "https://localhost:8080/"
    },
    "executionInfo": {
     "status": "ok",
     "timestamp": 1696850928497,
     "user_tz": -60,
     "elapsed": 227,
     "user": {
      "displayName": "Susruth Puppala",
      "userId": "17586533176361250691"
     }
    },
    "outputId": "cb18f929-69aa-443a-8ec8-1cdc0c691852"
   },
   "outputs": [
    {
     "output_type": "stream",
     "name": "stdout",
     "text": [
      "1 The Shawshank Redemption\n",
      "2 Forrest Gump\n",
      "3 Fight Club\n",
      "4 One Flew Over the Cuckoo's Nest\n",
      "5 It's a Wonderful Life\n",
      "6 Saving Private Ryan\n",
      "7 Parasite\n",
      "8 The Prestige\n",
      "9 Whiplash\n",
      "10 Casablanca\n",
      "11 Cinema Paradiso\n",
      "12 Apocalypse Now\n",
      "13 Django Unchained\n",
      "14 The Lives of Others\n",
      "15 Sunset Blvd.\n",
      "16 Paths of Glory\n",
      "17 The Shining\n",
      "18 American Beauty\n",
      "19 Das Boot\n",
      "20 Good Will Hunting\n",
      "21 Requiem for a Dream\n",
      "22 Eternal Sunshine of the Spotless Mind\n",
      "23 Capernaum\n",
      "24 The Hunt\n",
      "25 Citizen Kane\n",
      "26 Come and See\n",
      "27 Full Metal Jacket\n",
      "28 Ikiru\n",
      "29 Incendies\n",
      "30 Metropolis\n",
      "31 A Separation\n",
      "32 Bicycle Thieves\n",
      "33 Like Stars on Earth\n",
      "34 All About Eve\n",
      "35 The Father\n",
      "36 Judgment at Nuremberg\n",
      "37 Pan's Labyrinth\n",
      "38 Unforgiven\n",
      "39 There Will Be Blood\n",
      "40 The Sixth Sense\n",
      "41 Chinatown\n",
      "42 Gone with the Wind\n",
      "43 The Secret in Their Eyes\n",
      "44 Trainspotting\n",
      "45 Gran Torino\n",
      "46 Million Dollar Baby\n",
      "47 Children of Heaven\n",
      "48 Before Sunrise\n",
      "49 Wild Strawberries\n",
      "50 Gone Girl\n",
      "51 The Deer Hunter\n",
      "52 The Seventh Seal\n",
      "53 Room\n",
      "54 Tokyo Story\n",
      "55 Rocky\n",
      "56 Platoon\n",
      "57 Pather Panchali\n",
      "58 Network\n",
      "59 Before Sunset\n",
      "60 The Best Years of Our Lives\n",
      "61 The Battle of Algiers\n",
      "62 The Grapes of Wrath\n",
      "63 Rebecca\n",
      "64 Amores perros\n",
      "65 My Father and My Son\n",
      "66 Persona\n",
      "67 The Handmaiden\n",
      "68 The Help\n"
     ]
    }
   ],
   "source": [
    "## Write your code here\n",
    "movies = get_movies_in_genre(\"Drama\")\n",
    "#print(movies)\n",
    "for count, movie in enumerate(movies, start = 1):\n",
    "  print(count, movie[\"title\"])"
   ]
  },
  {
   "cell_type": "code",
   "execution_count": null,
   "metadata": {
    "id": "2Cwq2Dfe-dhT",
    "colab": {
     "base_uri": "https://localhost:8080/"
    },
    "executionInfo": {
     "status": "ok",
     "timestamp": 1696850931632,
     "user_tz": -60,
     "elapsed": 266,
     "user": {
      "displayName": "Susruth Puppala",
      "userId": "17586533176361250691"
     }
    },
    "outputId": "c378af58-1a8c-47bf-9e15-f22875cc0e15"
   },
   "outputs": [
    {
     "output_type": "stream",
     "name": "stdout",
     "text": [
      "Great! The \"get_movies_in_genre\" function returns the correct movies\n",
      "You can continue to the next task\n"
     ]
    }
   ],
   "source": [
    "#@title Enter your solution here { display-mode: \"form\", run: \"auto\" }\n",
    "#@markdown For Action, which is the movie corresponding to index 12?\n",
    "first_movie = \"Gladiator\" #@param [\"The Dark Knight\", \"Leon\", \"Harakiri\", \"Gladiator\", \"Pirates of the Caribbean: The Curse of the Black Pearl\"] {allow-input: true}\n",
    "#@markdown For Drama, which is the movie corresponding to index 7?\n",
    "second_movie = \"Parasite\" #@param [\"The Help\", \"The Shawshank Redemption\", \"The Prestige\", \"Parasite\", \"Saving Private Ryan\"] {allow-input: true}\n",
    "\n",
    "#@markdown For Crime, which is the movie corresponding to index 26?\n",
    "third_movie = \"No Country for Old Men\" #@param [\"Rashomon\", \"Reservoir Dogs\", \"The Godfather\", \"No Country for Old Men\", \"Dial M for Murder\"] {allow-input: true}\n",
    "task_2 = test_milestone_4.check_get_movies_in_genre(first_movie, second_movie, third_movie, task_1)"
   ]
  },
  {
   "cell_type": "markdown",
   "metadata": {
    "id": "MLp_5Nc6-dhU"
   },
   "source": [
    "# Task 3\n",
    "\n",
    "### Select and display the details of a movie\n",
    "\n",
    "Define a new function called `get_movie_by_index`. It should first print out all the movies in the genre selected.\n",
    "\n",
    "Then, it should ask the user to select a movie by entering the index of the movie. Assign this to a variable named `selected_movie_index`.\n",
    "\n",
    "\n",
    "HINT: Be careful of what data type is returned from the `input()` function.\n",
    "\n",
    "Print the key-value pairs of the selected movie's dictionary each on a new line.\n",
    "\n",
    "On each line, print the key and the value, separated by a comma.\n",
    "\n",
    "\n",
    "Make sure to use the `.items()` method of the dictionary.\n",
    "\n",
    "\n",
    "Your program should end after this."
   ]
  },
  {
   "cell_type": "code",
   "execution_count": 35,
   "metadata": {
    "id": "xOwj6yRB-dhU",
    "colab": {
     "base_uri": "https://localhost:8080/"
    },
    "executionInfo": {
     "status": "ok",
     "timestamp": 1696861122802,
     "user_tz": -60,
     "elapsed": 15977,
     "user": {
      "displayName": "Susruth Puppala",
      "userId": "17586533176361250691"
     }
    },
    "outputId": "1f7fecd7-abba-43d0-afaa-7c0d80150541"
   },
   "outputs": [
    {
     "output_type": "stream",
     "name": "stdout",
     "text": [
      "Comedy, Action, Adventure, Mystery, Horror, Drama, Film-Noir, Western, Animation, Crime, Biography\n",
      "What genre are you interested in?Action\n",
      "Action\n",
      "1 The Dark Knight\n",
      "2 The Lord of the Rings: The Return of the King\n",
      "3 The Lord of the Rings: The Fellowship of the Ring\n",
      "4 Inception\n",
      "5 The Lord of the Rings: The Two Towers\n",
      "6 Star Wars: Episode V - The Empire Strikes Back\n",
      "7 The Matrix\n",
      "8 Seven Samurai\n",
      "9 Star Wars\n",
      "10 Terminator 2: Judgment Day\n",
      "11 Leon\n",
      "12 Gladiator\n",
      "13 Harakiri\n",
      "14 Raiders of the Lost Ark\n",
      "15 Avengers: Infinity War\n",
      "16 Aliens\n",
      "17 The Dark Knight Rises\n",
      "18 Oldboy\n",
      "19 Top Gun: Maverick\n",
      "20 Avengers: Endgame\n",
      "21 Star Wars: Return of the Jedi\n",
      "22 North by Northwest\n",
      "23 Heat\n",
      "24 Die Hard\n",
      "25 Indiana Jones and the Last Crusade\n",
      "26 1917\n",
      "27 Batman Begins\n",
      "28 Dangal\n",
      "29 Ran\n",
      "30 Spider-Man: No Way Home\n",
      "31 Yojimbo\n",
      "32 Jurassic Park\n",
      "33 Kill Bill: Vol. 1\n",
      "34 V for Vendetta\n",
      "35 Lock, Stock and Two Smoking Barrels\n",
      "36 Warrior\n",
      "37 Blade Runner\n",
      "38 The General\n",
      "39 Sherlock Jr.\n",
      "40 Mad Max: Fury Road\n",
      "41 Le Mans '66\n",
      "42 Everything Everywhere All at Once\n",
      "43 The Terminator\n",
      "44 Rush\n",
      "45 Logan\n",
      "46 Pirates of the Caribbean: The Curse of the Black Pearl\n",
      "46\n",
      "What index of the movie do you want to select? 4\n",
      "title , Inception\n",
      "description , A thief who steals corporate secrets through the use of dream-sharing technology is given the inverse task of planting an idea into the mind of a C.E.O., but his tragic past may doom the project and his team to disaster.\n",
      "genre , Action\n",
      "image_url , https://m.media-amazon.com/images/M/MV5BMjAxMzY3NjcxNF5BMl5BanBnXkFtZTcwNTI5OTM0Mw@@._V1_UY67_CR0,0,45,67_AL_.jpg\n",
      "link , https://imdb.com/title/tt1375666/?pf_rd_m=A2FGELUUNOQJNL&pf_rd_p=1a264172-ae11-42e4-8ef7-7fed1973bb8f&pf_rd_r=VZEYAR8ZVPNKZ9V7MV87&pf_rd_s=center-1&pf_rd_t=15506&pf_rd_i=top&ref_=chttp_tt_13\n"
     ]
    }
   ],
   "source": [
    "## Write your code here+\n",
    "def get_movie_by_index():\n",
    "  genres1 = get_user_genre_choice()\n",
    "  #genres = get_unique_genres()\n",
    "  print(genres1)\n",
    "  movies = get_movies_in_genre(genres1)\n",
    "  for count, movie in enumerate(movies, start = 1):\n",
    "    print(count, movie[\"title\"])\n",
    "  print(count)\n",
    "  selected_movie_index = int(input(\"What index of the movie do you want to select? \"))\n",
    "  #print key value pairs for the selected movie\n",
    "  key = movies[selected_movie_index - 1].items()\n",
    "  #print(key)\n",
    "  for k,v in key:\n",
    "    print(f\"{k} , {v}\")\n",
    "\n",
    "\n",
    "get_movie_by_index()"
   ]
  },
  {
   "cell_type": "code",
   "execution_count": 36,
   "metadata": {
    "id": "0Yh1uNt_-dhU",
    "colab": {
     "base_uri": "https://localhost:8080/"
    },
    "executionInfo": {
     "status": "ok",
     "timestamp": 1696861126180,
     "user_tz": -60,
     "elapsed": 371,
     "user": {
      "displayName": "Susruth Puppala",
      "userId": "17586533176361250691"
     }
    },
    "outputId": "ea0115b1-e432-4cd0-9020-9e1a882210b4"
   },
   "outputs": [
    {
     "output_type": "stream",
     "name": "stdout",
     "text": [
      "Great! The \"get_movie_by_index\" function is defined correctly\n",
      "You have completed the fourth milestone of the project! Congratulations!\n"
     ]
    }
   ],
   "source": [
    "#@title Run this cell to check your solution { display-mode: \"form\", run: \"auto\" }\n",
    "\n",
    "assert 'get_movie_by_index' in globals(), \"You need to define a function called get_movie_by_index\"\n",
    "task_3 = test_milestone_4.check_get_movie_by_index(get_movie_by_index, task_2)"
   ]
  }
 ],
 "metadata": {
  "colab": {
   "provenance": [
    {
     "file_id": "https://github.com/AI-Core/movie-recommendation-system/blob/main/milestone_4.ipynb",
     "timestamp": 1696763340573
    }
   ]
  },
  "kernelspec": {
   "display_name": "Python 3.9.5 ('base')",
   "language": "python",
   "name": "python3"
  },
  "language_info": {
   "codemirror_mode": {
    "name": "ipython",
    "version": 3
   },
   "file_extension": ".py",
   "mimetype": "text/x-python",
   "name": "python",
   "nbconvert_exporter": "python",
   "pygments_lexer": "ipython3",
   "version": "3.9.5 (default, Jun  4 2021, 12:28:51) \n[GCC 7.5.0]"
  },
  "orig_nbformat": 4,
  "vscode": {
   "interpreter": {
    "hash": "ce99af5845ff7f417c6fe57e3883abe41597db90e3f493c4f9da5159bbc46102"
   }
  }
 },
 "nbformat": 4,
 "nbformat_minor": 0
}
